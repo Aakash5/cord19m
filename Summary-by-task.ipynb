{
 "cells": [
  {
   "cell_type": "markdown",
   "metadata": {},
   "source": [
    "# Load selected document text and get summaries\n",
    "\n",
    "This notebook summarise documents selected using [biobert-metadata-serch](https://www.kaggle.com/sourojit/cord-biobert-search/) and [reference-title-cluster](https://www.kaggle.com/debasmitadas/unsupervised-clustering-covid-research-papers) notebooks on kaggle"
   ]
  },
  {
   "cell_type": "code",
   "execution_count": null,
   "metadata": {},
   "outputs": [],
   "source": [
    "from src.python.cord19m.data_loader import Cord19\n",
    "from src.python.cord19m.lm import LanguageModel\n",
    "import configparser\n",
    "import pandas as pd"
   ]
  },
  {
   "cell_type": "code",
   "execution_count": null,
   "metadata": {},
   "outputs": [],
   "source": [
    "config = configparser.ConfigParser()\n",
    "# config.read('config.ini')"
   ]
  },
  {
   "cell_type": "code",
   "execution_count": null,
   "metadata": {},
   "outputs": [],
   "source": [
    "x = Cord19('data/',output_dir='models/')\n",
    "lm = LanguageModel('bert-large-uncased',cache_dir=config['DEFAULT']['bert_models_folder'])"
   ]
  },
  {
   "cell_type": "markdown",
   "metadata": {},
   "source": [
    "## Task-wise selected documents\n",
    "Loaded from [biobert-metadata-serch](https://www.kaggle.com/sourojit/cord-biobert-search/) notebook"
   ]
  },
  {
   "cell_type": "code",
   "execution_count": null,
   "metadata": {},
   "outputs": [],
   "source": [
    "df_task_papers = pd.read_csv('models/task1_results.csv')\n",
    "df_task_papers.shape"
   ]
  },
  {
   "cell_type": "code",
   "execution_count": null,
   "metadata": {},
   "outputs": [],
   "source": [
    "cord_uids_task1 = df_task_papers.cord_uid.unique().tolist()\n",
    "len(cord_uids_task1)"
   ]
  },
  {
   "cell_type": "code",
   "execution_count": null,
   "metadata": {},
   "outputs": [],
   "source": [
    "x.load_text_data(cord_uids=cord_uids_task1)"
   ]
  },
  {
   "cell_type": "code",
   "execution_count": null,
   "metadata": {},
   "outputs": [],
   "source": [
    "df_docs_summarised = lm.summarize_document(x.df_docs,max_sentences=9)\n",
    "df_docs_summarised.to_excel('models/task1_results_summary.xlsx')"
   ]
  }
 ],
 "metadata": {
  "kernelspec": {
   "display_name": "Python 3",
   "language": "python",
   "name": "python3"
  },
  "language_info": {
   "codemirror_mode": {
    "name": "ipython",
    "version": 3
   },
   "file_extension": ".py",
   "mimetype": "text/x-python",
   "name": "python",
   "nbconvert_exporter": "python",
   "pygments_lexer": "ipython3",
   "version": "3.7.4"
  }
 },
 "nbformat": 4,
 "nbformat_minor": 2
}
