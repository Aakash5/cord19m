{
 "cells": [
  {
   "cell_type": "code",
   "execution_count": 1,
   "metadata": {
    "colab": {
     "base_uri": "https://localhost:8080/",
     "height": 125
    },
    "colab_type": "code",
    "id": "L3dArgW0EB9l",
    "outputId": "bf3e671d-b1bc-4768-f08e-cf6f268f60c2"
   },
   "outputs": [
    {
     "name": "stdout",
     "output_type": "stream",
     "text": [
      "Go to this URL in a browser: https://accounts.google.com/o/oauth2/auth?client_id=947318989803-6bn6qk8qdgf4n4g3pfee6491hc0brc4i.apps.googleusercontent.com&redirect_uri=urn%3aietf%3awg%3aoauth%3a2.0%3aoob&response_type=code&scope=email%20https%3a%2f%2fwww.googleapis.com%2fauth%2fdocs.test%20https%3a%2f%2fwww.googleapis.com%2fauth%2fdrive%20https%3a%2f%2fwww.googleapis.com%2fauth%2fdrive.photos.readonly%20https%3a%2f%2fwww.googleapis.com%2fauth%2fpeopleapi.readonly\n",
      "\n",
      "Enter your authorization code:\n",
      "··········\n",
      "Mounted at /content/gdrive\n"
     ]
    }
   ],
   "source": [
    "from google.colab import drive\n",
    "drive.mount('/content/gdrive')"
   ]
  },
  {
   "cell_type": "code",
   "execution_count": 2,
   "metadata": {
    "colab": {
     "base_uri": "https://localhost:8080/",
     "height": 93,
     "resources": {
      "http://localhost:8080/nbextensions/google.colab/files.js": {
       "data": "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",
       "headers": [
        [
         "content-type",
         "application/javascript"
        ]
       ],
       "ok": true,
       "status": 200,
       "status_text": "OK"
      }
     }
    },
    "colab_type": "code",
    "id": "-sPpaBudGBx4",
    "outputId": "8bed6e15-e3b8-4f85-d9e0-90e03ded3652"
   },
   "outputs": [
    {
     "data": {
      "text/html": [
       "\n",
       "     <input type=\"file\" id=\"files-34f2021d-f096-400a-a78a-23f82087be10\" name=\"files[]\" multiple disabled />\n",
       "     <output id=\"result-34f2021d-f096-400a-a78a-23f82087be10\">\n",
       "      Upload widget is only available when the cell has been executed in the\n",
       "      current browser session. Please rerun this cell to enable.\n",
       "      </output>\n",
       "      <script src=\"/nbextensions/google.colab/files.js\"></script> "
      ],
      "text/plain": [
       "<IPython.core.display.HTML object>"
      ]
     },
     "metadata": {
      "tags": []
     },
     "output_type": "display_data"
    },
    {
     "name": "stdout",
     "output_type": "stream",
     "text": [
      "Saving kaggle.json to kaggle.json\n"
     ]
    },
    {
     "data": {
      "text/plain": [
       "{'kaggle.json': b'{\"username\":\"sourojit\",\"key\":\"52019502ee28f2cd2493f32df7122bd7\"}'}"
      ]
     },
     "execution_count": 2,
     "metadata": {
      "tags": []
     },
     "output_type": "execute_result"
    }
   ],
   "source": [
    "from google.colab import files\n",
    "\n",
    "files.upload()"
   ]
  },
  {
   "cell_type": "code",
   "execution_count": 3,
   "metadata": {
    "colab": {
     "base_uri": "https://localhost:8080/",
     "height": 35
    },
    "colab_type": "code",
    "id": "l0BpQNSfHfnU",
    "outputId": "01ba2165-fd47-4d37-9059-c0f4b947427d"
   },
   "outputs": [
    {
     "name": "stdout",
     "output_type": "stream",
     "text": [
      "kaggle.json\n"
     ]
    }
   ],
   "source": [
    "!pip install -q kaggle\n",
    "!mkdir -p ~/.kaggle\n",
    "!cp kaggle.json ~/.kaggle/\n",
    "!ls ~/.kaggle\n",
    "# we need to set permissions \n",
    "!chmod 600 /root/.kaggle/kaggle.json"
   ]
  },
  {
   "cell_type": "code",
   "execution_count": 4,
   "metadata": {
    "colab": {
     "base_uri": "https://localhost:8080/",
     "height": 211
    },
    "colab_type": "code",
    "id": "DTqfd7zPIiTA",
    "outputId": "f10252d5-a23c-474b-ffdb-d69bb9fbb7b0"
   },
   "outputs": [
    {
     "name": "stdout",
     "output_type": "stream",
     "text": [
      "Requirement already satisfied: kaggle in /usr/local/lib/python3.6/dist-packages (1.5.6)\n",
      "Requirement already satisfied: certifi in /usr/local/lib/python3.6/dist-packages (from kaggle) (2019.11.28)\n",
      "Requirement already satisfied: python-slugify in /usr/local/lib/python3.6/dist-packages (from kaggle) (4.0.0)\n",
      "Requirement already satisfied: urllib3<1.25,>=1.21.1 in /usr/local/lib/python3.6/dist-packages (from kaggle) (1.24.3)\n",
      "Requirement already satisfied: requests in /usr/local/lib/python3.6/dist-packages (from kaggle) (2.21.0)\n",
      "Requirement already satisfied: tqdm in /usr/local/lib/python3.6/dist-packages (from kaggle) (4.38.0)\n",
      "Requirement already satisfied: python-dateutil in /usr/local/lib/python3.6/dist-packages (from kaggle) (2.8.1)\n",
      "Requirement already satisfied: six>=1.10 in /usr/local/lib/python3.6/dist-packages (from kaggle) (1.12.0)\n",
      "Requirement already satisfied: text-unidecode>=1.3 in /usr/local/lib/python3.6/dist-packages (from python-slugify->kaggle) (1.3)\n",
      "Requirement already satisfied: chardet<3.1.0,>=3.0.2 in /usr/local/lib/python3.6/dist-packages (from requests->kaggle) (3.0.4)\n",
      "Requirement already satisfied: idna<2.9,>=2.5 in /usr/local/lib/python3.6/dist-packages (from requests->kaggle) (2.8)\n"
     ]
    }
   ],
   "source": [
    "!pip install kaggle\n",
    "import os\n",
    "!cp \"/content/kaggle.json\" /root/.kaggle"
   ]
  },
  {
   "cell_type": "code",
   "execution_count": 5,
   "metadata": {
    "colab": {
     "base_uri": "https://localhost:8080/",
     "height": 211
    },
    "colab_type": "code",
    "id": "9GCfTla6IsVt",
    "outputId": "f40c10f4-3b24-43f3-de0b-eb8515aa1b5c"
   },
   "outputs": [
    {
     "name": "stdout",
     "output_type": "stream",
     "text": [
      "--2020-03-31 16:00:20--  https://ftp.ncbi.nlm.nih.gov/pub/lu/Suppl/BioSentVec/BioSentVec_PubMed_MIMICIII-bigram_d700.bin\n",
      "Resolving ftp.ncbi.nlm.nih.gov (ftp.ncbi.nlm.nih.gov)... 130.14.250.7, 2607:f220:41e:250::10\n",
      "Connecting to ftp.ncbi.nlm.nih.gov (ftp.ncbi.nlm.nih.gov)|130.14.250.7|:443... connected.\n",
      "HTTP request sent, awaiting response... 200 OK\n",
      "Length: 22475736490 (21G) [application/octet-stream]\n",
      "Saving to: ‘BioSentVec_PubMed_MIMICIII-bigram_d700.bin’\n",
      "\n",
      "BioSentVec_PubMed_M 100%[===================>]  20.93G  67.0MB/s    in 6m 47s  \n",
      "\n",
      "2020-03-31 16:07:08 (52.6 MB/s) - ‘BioSentVec_PubMed_MIMICIII-bigram_d700.bin’ saved [22475736490/22475736490]\n",
      "\n"
     ]
    }
   ],
   "source": [
    "!wget -c 'https://ftp.ncbi.nlm.nih.gov/pub/lu/Suppl/BioSentVec/BioSentVec_PubMed_MIMICIII-bigram_d700.bin'"
   ]
  },
  {
   "cell_type": "code",
   "execution_count": 0,
   "metadata": {
    "colab": {},
    "colab_type": "code",
    "id": "4dH01aQFJBUR"
   },
   "outputs": [],
   "source": [
    "queries=['Range of incubation periods for the disease in humans (and how this varies across age and health status) and how long individuals are contagious, even after recovery.',\n",
    "'Prevalence of asymptomatic shedding and transmission (e.g., particularly children).',\n",
    "'Seasonality of transmission.',\n",
    "'Physical science of the coronavirus (e.g., charge distribution, adhesion to hydrophilic/phobic surfaces, environmental survival to inform decontamination efforts for affected areas and provide information about viral shedding).',\n",
    "'Persistence and stability on a multitude of substrates and sources (e.g., nasal discharge, sputum, urine, fecal matter, blood).',\n",
    "'Persistence of virus on surfaces of different materials (e,g., copper, stainless steel, plastic).',\n",
    "'Natural history of the virus and shedding of it from an infected person',\n",
    "'Implementation of diagnostics and products to improve clinical processes',\n",
    "'Disease models, including animal models for infection, disease and transmission',\n",
    "'Tools and studies to monitor phenotypic change and potential adaptation of the virus',\n",
    "'Immune response and immunity',\n",
    "'Effectiveness of movement control strategies to prevent secondary transmission in health care and community settings',\n",
    "'Effectiveness of personal protective equipment (PPE) and its usefulness to reduce risk of transmission in health care and community settings',\n",
    "'Role of the environment in transmission',\n",
    "'Smoking, pre-existing pulmonary disease',\n",
    "'Co-infections (determine whether co-existing respiratory/viral infections make the virus more transmissible or virulent) and other co-morbidities',\n",
    "'Neonates and pregnant women',\n",
    "'Socio-economic and behavioral factors to understand the economic impact of the virus and whether there were differences.',\n",
    "'Transmission dynamics of the virus, including the basic reproductive number, incubation period, serial interval, modes of transmission and environmental factors',\n",
    "'Severity of disease, including risk of fatality among symptomatic hospitalized patients, and high-risk patient groups',\n",
    "'Susceptibility of populations',\n",
    "'Public health mitigation measures that could be effective for control',\n",
    "'Real-time tracking of whole genomes and a mechanism for coordinating the rapid dissemination of that information to inform the development of diagnostics and therapeutics and to track variations of the virus over time.',\n",
    "'Access to geographic and temporal diverse sample sets to understand geographic distribution and genomic differences, and determine whether there is more than one strain in circulation. Multi-lateral agreements such as the Nagoya Protocol could be leveraged.',\n",
    "'Evidence that livestock could be infected (e.g., field surveillance, genetic sequencing, receptor binding) and serve as a reservoir after the epidemic appears to be over.',\n",
    "'Evidence of whether farmers are infected, and whether farmers could have played a role in the origin.',\n",
    "'Surveillance of mixed wildlife- livestock farms for SARS-CoV-2 and other coronaviruses in Southeast Asia.',\n",
    "'Experimental infections to test host range for this pathogen.',\n",
    "'Animal host(s) and any evidence of continued spill-over to humans',\n",
    "'Socioeconomic and behavioral risk factors for this spill-over',\n",
    "'Sustainable risk reduction strategies',\n",
    "'Effectiveness of drugs being developed and tried to treat COVID-19 patients.',\n",
    "'Clinical and bench trials to investigate less common viral inhibitors against COVID-19 such as naproxen, clarithromycin, and minocyclinethat that may exert effects on viral replication.',\n",
    "'Methods evaluating potential complication of Antibody-Dependent Enhancement (ADE) in vaccine recipients.',\n",
    "'Exploration of use of best animal models and their predictive value for a human vaccine.',\n",
    "'Capabilities to discover a therapeutic (not vaccine) for the disease, and clinical effectiveness studies to discover therapeutics, to include antiviral agents.',\n",
    "'Alternative models to aid decision makers in determining how to prioritize and distribute scarce, newly proven therapeutics as production ramps up. This could include identifying approaches for expanding production capacity to ensure equitable and timely distribution to populations in need.',\n",
    "'Efforts targeted at a universal coronavirus vaccine.',\n",
    "'Efforts to develop animal models and standardize challenge studies',\n",
    "'Efforts to develop prophylaxis clinical studies and prioritize in healthcare workers',\n",
    "'Approaches to evaluate risk for enhanced disease after vaccination',\n",
    "'Assays to evaluate vaccine immune response and process development for vaccines, alongside suitable animal models [in conjunction with therapeutics]',\n",
    "'Guidance on ways to scale up NPIs in a more coordinated way (e.g., establish funding, infrastructure and authorities to support real time, authoritative (qualified participants) collaboration with all states to gain consensus on consistent guidance and to mobilize resources to geographic areas where critical shortfalls are identified) to give us time to enhance our health care delivery system capacity to respond to an increase in cases.',\n",
    "'Rapid design and execution of experiments to examine and compare NPIs currently being implemented. DHS Centers for Excellence could potentially be leveraged to conduct these experiments.',\n",
    "'Rapid assessment of the likely efficacy of school closures, travel bans, bans on mass gatherings of various sizes, and other social distancing approaches.',\n",
    "'Methods to control the spread in communities, barriers to compliance and how these vary among different populations.',\n",
    "'Models of potential interventions to predict costs and benefits that take account of such factors as race, income, disability, age, geographic location, immigration status, housing status, employment status, and health insurance status.',\n",
    "'Policy changes necessary to enable the compliance of individuals with limited resources and the underserved with NPIs.',\n",
    "'Research on why people fail to comply with public health advice, even if they want to do so (e.g., social or financial costs may be too high).',\n",
    "'Research on the economic impact of this or any pandemic. This would include identifying policy and programmatic alternatives that lessen/mitigate risks to critical government services, food distribution and supplies, access to critical household supplies, and access to health diagnoses, treatment, and needed care, regardless of ability to pay.',\n",
    "'Resources to support skilled nursing facilities and long term care facilities.',\n",
    "'Mobilization of surge medical staff to address shortages in overwhelmed communities',\n",
    "'Age-adjusted mortality data for Acute Respiratory Distress Syndrome (ARDS) with/without other organ failure – particularly for viral etiologies',\n",
    "'Extracorporeal membrane oxygenation (ECMO) outcomes data of COVID-19 patients',\n",
    "'Outcomes data for COVID-19 after mechanical ventilation adjusted for age.',\n",
    "'Knowledge of the frequency, manifestations, and course of extrapulmonary manifestations of COVID-19, including, but not limited to, possible cardiomyopathy and cardiac arrest.',\n",
    "'Application of regulatory standards (e.g., EUA, CLIA) and ability to adapt care to crisis standards of care level.',\n",
    "'Approaches for encouraging and facilitating the production of elastomeric respirators, which can save thousands of N95 masks.',\n",
    "'Best telemedicine practices, barriers and faciitators, and specific actions to remove/expand them within and across state boundaries.',\n",
    "'Guidance on the simple things people can do at home to take care of sick people and manage disease.',\n",
    "'Oral medications that might potentially work.',\n",
    "'Use of AI in real-time health care delivery to evaluate interventions, risk factors, and outcomes in a way that could not be done manually.',\n",
    "'Best practices and critical challenges and innovative solutions and technologies in hospital flow and organization, workforce protection, workforce allocation, community-based support resources, payment, and supply chain management to enhance capacity, efficiency, and outcomes.',\n",
    "'Efforts to define the natural history of disease to inform clinical care, public health interventions, infection prevention control, transmission, and clinical trials',\n",
    "'Efforts to develop a core clinical outcome set to maximize usability of data across a range of trials',\n",
    "'Efforts to determine adjunctive and supportive interventions that can improve the clinical outcomes of infected patients (e.g. steroids, high flow oxygen)',\n",
    "'Are there geographic variations in the rate of COVID-19 spread?',\n",
    "'Are there geographic variations in the mortality rate of COVID-19?',\n",
    "'Is there any evidence to suggest geographic based virus mutations?',\n",
    "'How widespread current exposure is to be able to make immediate policy recommendations on mitigation measures. Denominators for testing and a mechanism for rapidly sharing that information, including demographics, to the extent possible. Sampling methods to determine asymptomatic disease (e.g., use of serosurveys (such as convalescent samples) and early detection of disease (e.g., use of screening of neutralizing antibodies such as ELISAs).',\n",
    "'Efforts to increase capacity on existing diagnostic platforms and tap into existing surveillance platforms.',\n",
    "'Recruitment, support, and coordination of local expertise and capacity (public, private—commercial, and non-profit, including academic), including legal, ethical, communications, and operational issues.',\n",
    "'National guidance and guidelines about best practices to states (e.g., how states might leverage universities and private laboratories for testing purposes, communications to public health officials and the public).',\n",
    "'Development of a point-of-care test (like a rapid influenza test) and rapid bed-side tests, recognizing the tradeoffs between speed, accessibility, and accuracy.',\n",
    "'Rapid design and execution of targeted surveillance experiments calling for all potential testers using PCR in a defined area to start testing and report to a specific entity. These experiments could aid in collecting longitudinal samples, which are critical to understanding the impact of ad hoc local interventions (which also need to be recorded).',\n",
    "'Separation of assay development issues from instruments, and the role of the private sector to help quickly migrate assays onto those devices.',\n",
    "'Efforts to track the evolution of the virus (i.e., genetic drift or mutations) and avoid locking into specific reagents and surveillance/detection schemes.',\n",
    "'Latency issues and when there is sufficient viral load to detect the pathogen, and understanding of what is needed in terms of biological and environmental sampling.',\n",
    "'Use of diagnostics such as host response markers (e.g., cytokines) to detect early disease or predict severe disease progression, which would be important to understanding best clinical practice and efficacy of therapeutic interventions.',\n",
    "'Policies and protocols for screening and testing.',\n",
    "'Policies to mitigate the effects on supplies associated with mass testing, including swabs and reagents.',\n",
    "'Technology roadmap for diagnostics.',\n",
    "'Barriers to developing and scaling up new diagnostic tests (e.g., market forces), how future coalition and accelerator models (e.g., Coalition for Epidemic Preparedness Innovations) could provide critical funding for diagnostics, and opportunities for a streamlined regulatory environment.',\n",
    "'New platforms and technology (e.g., CRISPR) to improve response times and employ more holistic approaches to COVID-19 and future diseases.',\n",
    "'Coupling genomics and diagnostic testing on a large scale.',\n",
    "'Enhance capabilities for rapid sequencing and bioinformatics to target regions of the genome that will allow specificity for a particular variant.',\n",
    "'Enhance capacity (people, technology, data) for sequencing with advanced analytics for unknown pathogens, and explore capabilities for distinguishing naturally-occurring pathogens from intentional.',\n",
    "'One Health surveillance of humans and potential sources of future spillover or ongoing exposure for this organism and future pathogens, including both evolutionary hosts (e.g., bats) and transmission hosts (e.g., heavily trafficked and farmed wildlife and domestic food and companion species), inclusive of environmental, demographic, and occupational risk factors.',\n",
    "'Methods for coordinating data-gathering with standardized nomenclature.',\n",
    "'Sharing response information among planners, providers, and others.',\n",
    "'Understanding and mitigating barriers to information-sharing.',\n",
    "'How to recruit, support, and coordinate local (non-Federal) expertise and capacity relevant to public health emergency response (public, private, commercial and non-profit, including academic).',\n",
    "'Integration of federal/state/local public health surveillance systems.',\n",
    "'Value of investments in baseline public health response infrastructure preparedness',\n",
    "'Modes of communicating with target high-risk populations (elderly, health care workers).',\n",
    "'Risk communication and guidelines that are easy to understand and follow (include targeting at risk populations’ families too).',\n",
    "'Communication that indicates potential risk of disease to all population groups.',\n",
    "'Misunderstanding around containment and mitigation.',\n",
    "'Action plan to mitigate gaps and problems of inequity in the Nation’s public health capability, capacity, and funding to ensure all citizens in need are supported and can access information, surveillance, and treatment.',\n",
    "'Measures to reach marginalized and disadvantaged populations.',\n",
    "'Data systems and research priorities and agendas incorporate attention to the needs and circumstances of disadvantaged populations and underrepresented minorities.',\n",
    "'Mitigating threats to incarcerated people from COVID-19, assuring access to information, prevention, diagnosis, and treatment.',\n",
    "'Understanding coverage policies (barriers and opportunities) related to testing, treatment, and care',\n",
    "'Efforts to articulate and translate existing ethical principles and standards to salient issues in COVID-2019',\n",
    "'Efforts to embed ethics across all thematic areas, engage with novel ethical issues that arise and coordinate to minimize duplication of oversight',\n",
    "'Efforts to support sustained education, access, and capacity building in the area of ethics',\n",
    "'Efforts to establish a team at WHO that will be integrated within multidisciplinary research and operational platforms and that will connect with existing and expanded global networks of social sciences.',\n",
    "'Efforts to develop qualitative assessment frameworks to systematically collect information related to local barriers and enablers for the uptake and adherence to public health measures for prevention and control. This includes the rapid identification of the secondary impacts of these measures. (e.g. use of surgical masks, modification of health seeking behaviors for SRH, school closures)',\n",
    "'Efforts to identify how the burden of responding to the outbreak and implementing public health measures affects the physical and psychological health of those providing care for Covid-19 patients and identify the immediate needs that must be addressed.',\n",
    "'Efforts to identify the underlying drivers of fear, anxiety and stigma that fuel misinformation and rumor, particularly through social media.'\n",
    "]"
   ]
  },
  {
   "cell_type": "code",
   "execution_count": 7,
   "metadata": {
    "colab": {
     "base_uri": "https://localhost:8080/",
     "height": 140
    },
    "colab_type": "code",
    "id": "qXyzNIRFWc6N",
    "outputId": "22c9e95d-823a-4b5a-c734-240ea2185b67"
   },
   "outputs": [
    {
     "name": "stdout",
     "output_type": "stream",
     "text": [
      "Cloning into 'sent2vec'...\n",
      "remote: Enumerating objects: 11, done.\u001b[K\n",
      "remote: Counting objects:   9% (1/11)\u001b[K\r",
      "remote: Counting objects:  18% (2/11)\u001b[K\r",
      "remote: Counting objects:  27% (3/11)\u001b[K\r",
      "remote: Counting objects:  36% (4/11)\u001b[K\r",
      "remote: Counting objects:  45% (5/11)\u001b[K\r",
      "remote: Counting objects:  54% (6/11)\u001b[K\r",
      "remote: Counting objects:  63% (7/11)\u001b[K\r",
      "remote: Counting objects:  72% (8/11)\u001b[K\r",
      "remote: Counting objects:  81% (9/11)\u001b[K\r",
      "remote: Counting objects:  90% (10/11)\u001b[K\r",
      "remote: Counting objects: 100% (11/11)\u001b[K\r",
      "remote: Counting objects: 100% (11/11), done.\u001b[K\n",
      "remote: Compressing objects:  11% (1/9)\u001b[K\r",
      "remote: Compressing objects:  22% (2/9)\u001b[K\r",
      "remote: Compressing objects:  33% (3/9)\u001b[K\r",
      "remote: Compressing objects:  44% (4/9)\u001b[K\r",
      "remote: Compressing objects:  55% (5/9)\u001b[K\r",
      "remote: Compressing objects:  66% (6/9)\u001b[K\r",
      "remote: Compressing objects:  77% (7/9)\u001b[K\r",
      "remote: Compressing objects:  88% (8/9)\u001b[K\r",
      "remote: Compressing objects: 100% (9/9)\u001b[K\r",
      "remote: Compressing objects: 100% (9/9), done.\u001b[K\n",
      "Receiving objects:   0% (1/379)   \r",
      "Receiving objects:   1% (4/379)   \r",
      "Receiving objects:   2% (8/379)   \r",
      "Receiving objects:   3% (12/379)   \r",
      "Receiving objects:   4% (16/379)   \r",
      "Receiving objects:   5% (19/379)   \r",
      "Receiving objects:   6% (23/379)   \r",
      "Receiving objects:   7% (27/379)   \r",
      "Receiving objects:   8% (31/379)   \r",
      "Receiving objects:   9% (35/379)   \r",
      "Receiving objects:  10% (38/379)   \r",
      "Receiving objects:  11% (42/379)   \r",
      "Receiving objects:  12% (46/379)   \r",
      "Receiving objects:  13% (50/379)   \r",
      "Receiving objects:  14% (54/379)   \r",
      "Receiving objects:  15% (57/379)   \r",
      "Receiving objects:  16% (61/379)   \r",
      "Receiving objects:  17% (65/379)   \r",
      "Receiving objects:  18% (69/379)   \r",
      "Receiving objects:  19% (73/379)   \r",
      "Receiving objects:  20% (76/379)   \r",
      "Receiving objects:  21% (80/379)   \r",
      "Receiving objects:  22% (84/379)   \r",
      "Receiving objects:  23% (88/379)   \r",
      "Receiving objects:  24% (91/379)   \r",
      "Receiving objects:  25% (95/379)   \r",
      "Receiving objects:  26% (99/379)   \r",
      "Receiving objects:  27% (103/379)   \r",
      "Receiving objects:  28% (107/379)   \r",
      "Receiving objects:  29% (110/379)   \r",
      "Receiving objects:  30% (114/379)   \r",
      "Receiving objects:  31% (118/379)   \r",
      "Receiving objects:  32% (122/379)   \r",
      "Receiving objects:  33% (126/379)   \r",
      "Receiving objects:  34% (129/379)   \r",
      "Receiving objects:  35% (133/379)   \r",
      "Receiving objects:  36% (137/379)   \r",
      "Receiving objects:  37% (141/379)   \r",
      "Receiving objects:  38% (145/379)   \r",
      "Receiving objects:  39% (148/379)   \r",
      "Receiving objects:  40% (152/379)   \r",
      "Receiving objects:  41% (156/379)   \r",
      "Receiving objects:  42% (160/379)   \r",
      "Receiving objects:  43% (163/379)   \r",
      "Receiving objects:  44% (167/379)   \r",
      "remote: Total 379 (delta 3), reused 6 (delta 1), pack-reused 368\u001b[K\n",
      "Receiving objects:  45% (171/379)   \r",
      "Receiving objects:  46% (175/379)   \r",
      "Receiving objects:  47% (179/379)   \r",
      "Receiving objects:  48% (182/379)   \r",
      "Receiving objects:  49% (186/379)   \r",
      "Receiving objects:  50% (190/379)   \r",
      "Receiving objects:  51% (194/379)   \r",
      "Receiving objects:  52% (198/379)   \r",
      "Receiving objects:  53% (201/379)   \r",
      "Receiving objects:  54% (205/379)   \r",
      "Receiving objects:  55% (209/379)   \r",
      "Receiving objects:  56% (213/379)   \r",
      "Receiving objects:  57% (217/379)   \r",
      "Receiving objects:  58% (220/379)   \r",
      "Receiving objects:  59% (224/379)   \r",
      "Receiving objects:  60% (228/379)   \r",
      "Receiving objects:  61% (232/379)   \r",
      "Receiving objects:  62% (235/379)   \r",
      "Receiving objects:  63% (239/379)   \r",
      "Receiving objects:  64% (243/379)   \r",
      "Receiving objects:  65% (247/379)   \r",
      "Receiving objects:  66% (251/379)   \r",
      "Receiving objects:  67% (254/379)   \r",
      "Receiving objects:  68% (258/379)   \r",
      "Receiving objects:  69% (262/379)   \r",
      "Receiving objects:  70% (266/379)   \r",
      "Receiving objects:  71% (270/379)   \r",
      "Receiving objects:  72% (273/379)   \r",
      "Receiving objects:  73% (277/379)   \r",
      "Receiving objects:  74% (281/379)   \r",
      "Receiving objects:  75% (285/379)   \r",
      "Receiving objects:  76% (289/379)   \r",
      "Receiving objects:  77% (292/379)   \r",
      "Receiving objects:  78% (296/379)   \r",
      "Receiving objects:  79% (300/379)   \r",
      "Receiving objects:  80% (304/379)   \r",
      "Receiving objects:  81% (307/379)   \r",
      "Receiving objects:  82% (311/379)   \r",
      "Receiving objects:  83% (315/379)   \r",
      "Receiving objects:  84% (319/379)   \r",
      "Receiving objects:  85% (323/379)   \r",
      "Receiving objects:  86% (326/379)   \r",
      "Receiving objects:  87% (330/379)   \r",
      "Receiving objects:  88% (334/379)   \r",
      "Receiving objects:  89% (338/379)   \r",
      "Receiving objects:  90% (342/379)   \r",
      "Receiving objects:  91% (345/379)   \r",
      "Receiving objects:  92% (349/379)   \r",
      "Receiving objects:  93% (353/379)   \r",
      "Receiving objects:  94% (357/379)   \r",
      "Receiving objects:  95% (361/379)   \r",
      "Receiving objects:  96% (364/379)   \r",
      "Receiving objects:  97% (368/379)   \r",
      "Receiving objects:  98% (372/379)   \r",
      "Receiving objects:  99% (376/379)   \r",
      "Receiving objects: 100% (379/379)   \r",
      "Receiving objects: 100% (379/379), 446.78 KiB | 4.80 MiB/s, done.\n",
      "Resolving deltas:   0% (0/231)   \r",
      "Resolving deltas:   1% (3/231)   \r",
      "Resolving deltas:   4% (10/231)   \r",
      "Resolving deltas:   5% (13/231)   \r",
      "Resolving deltas:   6% (16/231)   \r",
      "Resolving deltas:   9% (23/231)   \r",
      "Resolving deltas:  12% (28/231)   \r",
      "Resolving deltas:  19% (44/231)   \r",
      "Resolving deltas:  25% (60/231)   \r",
      "Resolving deltas:  27% (63/231)   \r",
      "Resolving deltas:  29% (67/231)   \r",
      "Resolving deltas:  30% (71/231)   \r",
      "Resolving deltas:  31% (72/231)   \r",
      "Resolving deltas:  32% (74/231)   \r",
      "Resolving deltas:  34% (79/231)   \r",
      "Resolving deltas:  35% (81/231)   \r",
      "Resolving deltas:  38% (90/231)   \r",
      "Resolving deltas:  41% (95/231)   \r",
      "Resolving deltas:  48% (113/231)   \r",
      "Resolving deltas:  49% (115/231)   \r",
      "Resolving deltas:  50% (117/231)   \r",
      "Resolving deltas:  56% (131/231)   \r",
      "Resolving deltas:  69% (161/231)   \r",
      "Resolving deltas:  70% (164/231)   \r",
      "Resolving deltas:  71% (166/231)   \r",
      "Resolving deltas:  73% (169/231)   \r",
      "Resolving deltas:  75% (175/231)   \r",
      "Resolving deltas:  88% (205/231)   \r",
      "Resolving deltas:  90% (209/231)   \r",
      "Resolving deltas:  92% (213/231)   \r",
      "Resolving deltas:  93% (215/231)   \r",
      "Resolving deltas:  94% (219/231)   \r",
      "Resolving deltas:  95% (221/231)   \r",
      "Resolving deltas:  97% (226/231)   \r",
      "Resolving deltas:  98% (227/231)   \r",
      "Resolving deltas: 100% (231/231)   \r",
      "Resolving deltas: 100% (231/231), done.\n"
     ]
    }
   ],
   "source": [
    "! git clone https://github.com/epfml/sent2vec.git"
   ]
  },
  {
   "cell_type": "code",
   "execution_count": 8,
   "metadata": {
    "colab": {
     "base_uri": "https://localhost:8080/",
     "height": 178
    },
    "colab_type": "code",
    "id": "8QiBgTTFWiRK",
    "outputId": "4d4ace89-a3c3-4e07-f891-2afbe6321922"
   },
   "outputs": [
    {
     "name": "stdout",
     "output_type": "stream",
     "text": [
      "Processing ./sent2vec\n",
      "Building wheels for collected packages: sent2vec\n",
      "  Building wheel for sent2vec (setup.py) ... \u001b[?25l\u001b[?25hdone\n",
      "  Created wheel for sent2vec: filename=sent2vec-0.0.0-cp36-cp36m-linux_x86_64.whl size=1126018 sha256=b0138c567c8a8f5e88f2d12c5e27e496cd41c890af7ec721ac9fabcd459d0518\n",
      "  Stored in directory: /tmp/pip-ephem-wheel-cache-pgvh03an/wheels/b1/65/d7/f2c679e0086741bea69f0c4478303b6506bbf4c78dea82f565\n",
      "Successfully built sent2vec\n",
      "Installing collected packages: sent2vec\n",
      "Successfully installed sent2vec-0.0.0\n"
     ]
    }
   ],
   "source": [
    "!pip install sent2vec/ "
   ]
  },
  {
   "cell_type": "code",
   "execution_count": 0,
   "metadata": {
    "colab": {},
    "colab_type": "code",
    "id": "y2VKt01hWr7C"
   },
   "outputs": [],
   "source": [
    "import glob\n",
    "import json\n",
    "import pandas as pd\n",
    "from tqdm import tqdm"
   ]
  },
  {
   "cell_type": "code",
   "execution_count": 0,
   "metadata": {
    "colab": {},
    "colab_type": "code",
    "id": "1k0TRualWvQQ"
   },
   "outputs": [],
   "source": [
    "import sent2vec\n",
    "model = sent2vec.Sent2vecModel()"
   ]
  },
  {
   "cell_type": "code",
   "execution_count": 0,
   "metadata": {
    "colab": {},
    "colab_type": "code",
    "id": "7Bem_KBIWyh7"
   },
   "outputs": [],
   "source": [
    "model.load_model('/content/BioSentVec_PubMed_MIMICIII-bigram_d700.bin')"
   ]
  },
  {
   "cell_type": "code",
   "execution_count": 12,
   "metadata": {
    "colab": {
     "base_uri": "https://localhost:8080/",
     "height": 105
    },
    "colab_type": "code",
    "id": "-z4gHA6FaKje",
    "outputId": "9d059b9e-6122-4854-a462-6af5e817983b"
   },
   "outputs": [
    {
     "name": "stdout",
     "output_type": "stream",
     "text": [
      "[nltk_data] Downloading package stopwords to /root/nltk_data...\n",
      "[nltk_data]   Unzipping corpora/stopwords.zip.\n",
      "[nltk_data] Downloading package punkt to /root/nltk_data...\n",
      "[nltk_data]   Unzipping tokenizers/punkt.zip.\n"
     ]
    },
    {
     "data": {
      "text/plain": [
       "True"
      ]
     },
     "execution_count": 12,
     "metadata": {
      "tags": []
     },
     "output_type": "execute_result"
    }
   ],
   "source": [
    "from nltk import word_tokenize\n",
    "from nltk.corpus import stopwords\n",
    "from string import punctuation\n",
    "from scipy.spatial import distance\n",
    "import nltk\n",
    "nltk.download('stopwords')\n",
    "nltk.download('punkt')"
   ]
  },
  {
   "cell_type": "code",
   "execution_count": 0,
   "metadata": {
    "colab": {},
    "colab_type": "code",
    "id": "Opkt24kwaPp7"
   },
   "outputs": [],
   "source": [
    "stop_words = set(stopwords.words('english'))\n",
    "def preprocess_sentence(text):\n",
    "    text = text.replace('/', ' / ')\n",
    "    text = text.replace('.-', ' .- ')\n",
    "    text = text.replace('.', ' . ')\n",
    "    text = text.replace('\\'', ' \\' ')\n",
    "    text = text.lower()\n",
    "\n",
    "    tokens = [token for token in word_tokenize(text) if token not in punctuation and token not in stop_words]\n",
    "\n",
    "    return ' '.join(tokens)"
   ]
  },
  {
   "cell_type": "code",
   "execution_count": 0,
   "metadata": {
    "colab": {},
    "colab_type": "code",
    "id": "3wupjLb3aZb0"
   },
   "outputs": [],
   "source": [
    "queries_processed=[]\n",
    "for i in queries:\n",
    "  k=preprocess_sentence(i)\n",
    "  queries_processed.append(k)"
   ]
  },
  {
   "cell_type": "code",
   "execution_count": 16,
   "metadata": {
    "colab": {
     "base_uri": "https://localhost:8080/",
     "height": 1000
    },
    "colab_type": "code",
    "id": "YScNqbtYadcN",
    "outputId": "29c7222e-8ffb-4d63-b633-e5505b9349d0"
   },
   "outputs": [
    {
     "data": {
      "text/plain": [
       "['range incubation periods disease humans varies across age health status long individuals contagious even recovery',\n",
       " 'prevalence asymptomatic shedding transmission e g particularly children',\n",
       " 'seasonality transmission',\n",
       " 'physical science coronavirus e g charge distribution adhesion hydrophilic phobic surfaces environmental survival inform decontamination efforts affected areas provide information viral shedding',\n",
       " 'persistence stability multitude substrates sources e g nasal discharge sputum urine fecal matter blood',\n",
       " 'persistence virus surfaces different materials e g copper stainless steel plastic',\n",
       " 'natural history virus shedding infected person',\n",
       " 'implementation diagnostics products improve clinical processes',\n",
       " 'disease models including animal models infection disease transmission',\n",
       " 'tools studies monitor phenotypic change potential adaptation virus',\n",
       " 'immune response immunity',\n",
       " 'effectiveness movement control strategies prevent secondary transmission health care community settings',\n",
       " 'effectiveness personal protective equipment ppe usefulness reduce risk transmission health care community settings',\n",
       " 'role environment transmission',\n",
       " 'smoking pre-existing pulmonary disease',\n",
       " 'co-infections determine whether co-existing respiratory viral infections make virus transmissible virulent co-morbidities',\n",
       " 'neonates pregnant women',\n",
       " 'socio-economic behavioral factors understand economic impact virus whether differences',\n",
       " 'transmission dynamics virus including basic reproductive number incubation period serial interval modes transmission environmental factors',\n",
       " 'severity disease including risk fatality among symptomatic hospitalized patients high-risk patient groups',\n",
       " 'susceptibility populations',\n",
       " 'public health mitigation measures could effective control',\n",
       " 'real-time tracking whole genomes mechanism coordinating rapid dissemination information inform development diagnostics therapeutics track variations virus time',\n",
       " 'access geographic temporal diverse sample sets understand geographic distribution genomic differences determine whether one strain circulation multi-lateral agreements nagoya protocol could leveraged',\n",
       " 'evidence livestock could infected e g field surveillance genetic sequencing receptor binding serve reservoir epidemic appears',\n",
       " 'evidence whether farmers infected whether farmers could played role origin',\n",
       " 'surveillance mixed wildlife- livestock farms sars-cov-2 coronaviruses southeast asia',\n",
       " 'experimental infections test host range pathogen',\n",
       " 'animal host evidence continued spill-over humans',\n",
       " 'socioeconomic behavioral risk factors spill-over',\n",
       " 'sustainable risk reduction strategies',\n",
       " 'effectiveness drugs developed tried treat covid-19 patients',\n",
       " 'clinical bench trials investigate less common viral inhibitors covid-19 naproxen clarithromycin minocyclinethat may exert effects viral replication',\n",
       " 'methods evaluating potential complication antibody-dependent enhancement ade vaccine recipients',\n",
       " 'exploration use best animal models predictive value human vaccine',\n",
       " 'capabilities discover therapeutic vaccine disease clinical effectiveness studies discover therapeutics include antiviral agents',\n",
       " 'alternative models aid decision makers determining prioritize distribute scarce newly proven therapeutics production ramps could include identifying approaches expanding production capacity ensure equitable timely distribution populations need',\n",
       " 'efforts targeted universal coronavirus vaccine',\n",
       " 'efforts develop animal models standardize challenge studies',\n",
       " 'efforts develop prophylaxis clinical studies prioritize healthcare workers',\n",
       " 'approaches evaluate risk enhanced disease vaccination',\n",
       " 'assays evaluate vaccine immune response process development vaccines alongside suitable animal models conjunction therapeutics',\n",
       " 'guidance ways scale npis coordinated way e g establish funding infrastructure authorities support real time authoritative qualified participants collaboration states gain consensus consistent guidance mobilize resources geographic areas critical shortfalls identified give us time enhance health care delivery system capacity respond increase cases',\n",
       " 'rapid design execution experiments examine compare npis currently implemented dhs centers excellence could potentially leveraged conduct experiments',\n",
       " 'rapid assessment likely efficacy school closures travel bans bans mass gatherings various sizes social distancing approaches',\n",
       " 'methods control spread communities barriers compliance vary among different populations',\n",
       " 'models potential interventions predict costs benefits take account factors race income disability age geographic location immigration status housing status employment status health insurance status',\n",
       " 'policy changes necessary enable compliance individuals limited resources underserved npis',\n",
       " 'research people fail comply public health advice even want e g social financial costs may high',\n",
       " 'research economic impact pandemic would include identifying policy programmatic alternatives lessen mitigate risks critical government services food distribution supplies access critical household supplies access health diagnoses treatment needed care regardless ability pay',\n",
       " 'resources support skilled nursing facilities long term care facilities',\n",
       " 'mobilization surge medical staff address shortages overwhelmed communities',\n",
       " 'age-adjusted mortality data acute respiratory distress syndrome ards without organ failure – particularly viral etiologies',\n",
       " 'extracorporeal membrane oxygenation ecmo outcomes data covid-19 patients',\n",
       " 'outcomes data covid-19 mechanical ventilation adjusted age',\n",
       " 'knowledge frequency manifestations course extrapulmonary manifestations covid-19 including limited possible cardiomyopathy cardiac arrest',\n",
       " 'application regulatory standards e g eua clia ability adapt care crisis standards care level',\n",
       " 'approaches encouraging facilitating production elastomeric respirators save thousands n95 masks',\n",
       " 'best telemedicine practices barriers faciitators specific actions remove expand within across state boundaries',\n",
       " 'guidance simple things people home take care sick people manage disease',\n",
       " 'oral medications might potentially work',\n",
       " 'use ai real-time health care delivery evaluate interventions risk factors outcomes way could done manually',\n",
       " 'best practices critical challenges innovative solutions technologies hospital flow organization workforce protection workforce allocation community-based support resources payment supply chain management enhance capacity efficiency outcomes',\n",
       " 'efforts define natural history disease inform clinical care public health interventions infection prevention control transmission clinical trials',\n",
       " 'efforts develop core clinical outcome set maximize usability data across range trials',\n",
       " 'efforts determine adjunctive supportive interventions improve clinical outcomes infected patients e g steroids high flow oxygen',\n",
       " 'geographic variations rate covid-19 spread',\n",
       " 'geographic variations mortality rate covid-19',\n",
       " 'evidence suggest geographic based virus mutations',\n",
       " 'widespread current exposure able make immediate policy recommendations mitigation measures denominators testing mechanism rapidly sharing information including demographics extent possible sampling methods determine asymptomatic disease e g use serosurveys convalescent samples early detection disease e g use screening neutralizing antibodies elisas',\n",
       " 'efforts increase capacity existing diagnostic platforms tap existing surveillance platforms',\n",
       " 'recruitment support coordination local expertise capacity public private—commercial non-profit including academic including legal ethical communications operational issues',\n",
       " 'national guidance guidelines best practices states e g states might leverage universities private laboratories testing purposes communications public health officials public',\n",
       " 'development point-of-care test like rapid influenza test rapid bed-side tests recognizing tradeoffs speed accessibility accuracy',\n",
       " 'rapid design execution targeted surveillance experiments calling potential testers using pcr defined area start testing report specific entity experiments could aid collecting longitudinal samples critical understanding impact ad hoc local interventions also need recorded',\n",
       " 'separation assay development issues instruments role private sector help quickly migrate assays onto devices',\n",
       " 'efforts track evolution virus e genetic drift mutations avoid locking specific reagents surveillance detection schemes',\n",
       " 'latency issues sufficient viral load detect pathogen understanding needed terms biological environmental sampling',\n",
       " 'use diagnostics host response markers e g cytokines detect early disease predict severe disease progression would important understanding best clinical practice efficacy therapeutic interventions',\n",
       " 'policies protocols screening testing',\n",
       " 'policies mitigate effects supplies associated mass testing including swabs reagents',\n",
       " 'technology roadmap diagnostics',\n",
       " 'barriers developing scaling new diagnostic tests e g market forces future coalition accelerator models e g coalition epidemic preparedness innovations could provide critical funding diagnostics opportunities streamlined regulatory environment',\n",
       " 'new platforms technology e g crispr improve response times employ holistic approaches covid-19 future diseases',\n",
       " 'coupling genomics diagnostic testing large scale',\n",
       " 'enhance capabilities rapid sequencing bioinformatics target regions genome allow specificity particular variant',\n",
       " 'enhance capacity people technology data sequencing advanced analytics unknown pathogens explore capabilities distinguishing naturally-occurring pathogens intentional',\n",
       " 'one health surveillance humans potential sources future spillover ongoing exposure organism future pathogens including evolutionary hosts e g bats transmission hosts e g heavily trafficked farmed wildlife domestic food companion species inclusive environmental demographic occupational risk factors',\n",
       " 'methods coordinating data-gathering standardized nomenclature',\n",
       " 'sharing response information among planners providers others',\n",
       " 'understanding mitigating barriers information-sharing',\n",
       " 'recruit support coordinate local non-federal expertise capacity relevant public health emergency response public private commercial non-profit including academic',\n",
       " 'integration federal state local public health surveillance systems',\n",
       " 'value investments baseline public health response infrastructure preparedness',\n",
       " 'modes communicating target high-risk populations elderly health care workers',\n",
       " 'risk communication guidelines easy understand follow include targeting risk populations ’ families',\n",
       " 'communication indicates potential risk disease population groups',\n",
       " 'misunderstanding around containment mitigation',\n",
       " 'action plan mitigate gaps problems inequity nation ’ public health capability capacity funding ensure citizens need supported access information surveillance treatment',\n",
       " 'measures reach marginalized disadvantaged populations',\n",
       " 'data systems research priorities agendas incorporate attention needs circumstances disadvantaged populations underrepresented minorities',\n",
       " 'mitigating threats incarcerated people covid-19 assuring access information prevention diagnosis treatment',\n",
       " 'understanding coverage policies barriers opportunities related testing treatment care',\n",
       " 'efforts articulate translate existing ethical principles standards salient issues covid-2019',\n",
       " 'efforts embed ethics across thematic areas engage novel ethical issues arise coordinate minimize duplication oversight',\n",
       " 'efforts support sustained education access capacity building area ethics',\n",
       " 'efforts establish team integrated within multidisciplinary research operational platforms connect existing expanded global networks social sciences',\n",
       " 'efforts develop qualitative assessment frameworks systematically collect information related local barriers enablers uptake adherence public health measures prevention control includes rapid identification secondary impacts measures e g use surgical masks modification health seeking behaviors srh school closures',\n",
       " 'efforts identify burden responding outbreak implementing public health measures affects physical psychological health providing care covid-19 patients identify immediate needs must addressed',\n",
       " 'efforts identify underlying drivers fear anxiety stigma fuel misinformation rumor particularly social media']"
      ]
     },
     "execution_count": 16,
     "metadata": {
      "tags": []
     },
     "output_type": "execute_result"
    }
   ],
   "source": [
    "queries_processed"
   ]
  },
  {
   "cell_type": "code",
   "execution_count": 0,
   "metadata": {
    "colab": {},
    "colab_type": "code",
    "id": "mHwRv3UPaio3"
   },
   "outputs": [],
   "source": [
    "query_embedding=model.embed_sentences(queries_processed)"
   ]
  },
  {
   "cell_type": "code",
   "execution_count": 18,
   "metadata": {
    "colab": {
     "base_uri": "https://localhost:8080/",
     "height": 35
    },
    "colab_type": "code",
    "id": "KkcCGBWoamJ1",
    "outputId": "c18750be-b72d-48d3-8987-797e33f81dd2"
   },
   "outputs": [
    {
     "data": {
      "text/plain": [
       "(110, 700)"
      ]
     },
     "execution_count": 18,
     "metadata": {
      "tags": []
     },
     "output_type": "execute_result"
    }
   ],
   "source": [
    "query_embedding.shape"
   ]
  },
  {
   "cell_type": "code",
   "execution_count": 0,
   "metadata": {
    "colab": {},
    "colab_type": "code",
    "id": "AkEbm50taq18"
   },
   "outputs": [],
   "source": [
    "import pickle\n",
    "with open(\"/content/gdrive/My Drive/query_embedding2.pkl\", 'wb') as f:\n",
    "  pickle.dump(query_embedding, f)"
   ]
  }
 ],
 "metadata": {
  "colab": {
   "machine_shape": "hm",
   "name": "31_3_biovec.ipynb",
   "provenance": []
  },
  "kernelspec": {
   "display_name": "Python 3",
   "language": "python",
   "name": "python3"
  },
  "language_info": {
   "codemirror_mode": {
    "name": "ipython",
    "version": 3
   },
   "file_extension": ".py",
   "mimetype": "text/x-python",
   "name": "python",
   "nbconvert_exporter": "python",
   "pygments_lexer": "ipython3",
   "version": "3.6.5"
  }
 },
 "nbformat": 4,
 "nbformat_minor": 1
}
